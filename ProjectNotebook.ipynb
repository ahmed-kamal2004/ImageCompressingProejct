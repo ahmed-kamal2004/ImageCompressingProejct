{
 "cells": [
  {
   "cell_type": "code",
   "execution_count": null,
   "id": "df4d563f-397e-42b6-947f-b2ffbb2fcf26",
   "metadata": {},
   "outputs": [],
   "source": [
    "## Imports \n",
    "%matplotlib inline\n",
    "import numpy as np\n",
    "import matplotlib.pyplot as plt\n",
    "from scipy.fftpack import dct,idct,dctn,idctn\n",
    "import cv2\n",
    "import sys\n",
    "import numpy\n",
    "import PIL\n",
    "from PIL import Image\n",
    "numpy.set_printoptions(threshold=sys.maxsize)\n",
    "\n",
    "## Constants\n",
    "m = 1\n",
    "blocksize = 8\n"
   ]
  },
  {
   "cell_type": "code",
   "execution_count": null,
   "id": "838736e6",
   "metadata": {},
   "outputs": [],
   "source": [
    "\n",
    "def enCompress(matrix,m = blocksize): \n",
    "    \"\"\"\n",
    "    enCompress function applys 2d Discrete Cosine Transform (DCT) algoritm on a given square matrix\n",
    "    param1 : 2d ndarray \n",
    "    param2 : integer\n",
    "    returns : Compressed 2d ndarray of shape (m,m) \n",
    "    \"\"\"\n",
    "    # return dct(dct(matrix.T,norm = \"ortho\").T,norm = \"ortho\")[0:m,0:m]\n",
    "    return dctn(matrix,norm = \"ortho\")[:m,:m]"
   ]
  },
  {
   "cell_type": "code",
   "execution_count": null,
   "id": "65af0a0d",
   "metadata": {},
   "outputs": [],
   "source": [
    "def deCompress(matrix):\n",
    "    \"\"\"\n",
    "    deCompress function applys Inverse 2d Discrete Cosine Transform (DCT) algoritm on a given square matrix\n",
    "    param1 : 2d ndarray of shape (x,x)\n",
    "    returns : De-compressed 2d ndarray of shape (x,x)\n",
    "    \"\"\"\n",
    "    # return idct(idct(matrix.T,norm = \"ortho\").T,norm = \"ortho\")\n",
    "    return idctn(matrix,norm = \"ortho\")"
   ]
  },
  {
   "cell_type": "code",
   "execution_count": null,
   "id": "2dec2ce5",
   "metadata": {},
   "outputs": [],
   "source": [
    "def bgr2rgb(imageArray):\n",
    "    \"\"\"\n",
    "    rbg2rgb takes imageArray of mode \"RBG\" and converts it to \"RGB\"\n",
    "    param1 : 3d ndarray shape (x,y,z)\n",
    "    returns : 3d ndarray shape (x,y,z)\n",
    "    \"\"\"\n",
    "    return np.dstack([imageArray[:,:,2],imageArray[:,:,1],imageArray[:,:,0]])"
   ]
  },
  {
   "cell_type": "code",
   "execution_count": null,
   "id": "cff2644b",
   "metadata": {},
   "outputs": [],
   "source": [
    "## Getting Image\n",
    "image = cv2.imread(r\"image1.png\")\n",
    "\n",
    "## Getting Data from Image\n",
    "red = image[:,:,0]\n",
    "blue = image[:,:,1]\n",
    "green = image[:,:,2]\n",
    "\n",
    "d1,d2,d3 = image.shape  ## Length of Image\n",
    "\n",
    "verticalSize = d1//blocksize\n",
    "horizontalSize = d2//blocksize\n",
    "\n",
    "plt.imshow(cv2.cvtColor(image, cv2.COLOR_BGR2RGB))\n"
   ]
  },
  {
   "cell_type": "code",
   "execution_count": null,
   "id": "f04c24d8",
   "metadata": {},
   "outputs": [],
   "source": [
    "## Initializing The RBG arraies of the Comprissed Image\n",
    "red_of_compressed = np.zeros(((verticalSize) * m,(horizontalSize) * m))\n",
    "blue_of_compressed = np.zeros(((verticalSize) * m,(horizontalSize) * m))\n",
    "green_of_compressed = np.zeros(((verticalSize) * m,(horizontalSize) * m))"
   ]
  },
  {
   "cell_type": "code",
   "execution_count": null,
   "id": "a03b108d",
   "metadata": {},
   "outputs": [],
   "source": [
    "\n",
    "## Compressing The Image \n",
    "for i in range(0,verticalSize):\n",
    "    for j in range(0,horizontalSize):\n",
    "\n",
    "        x = i * blocksize\n",
    "        y = j * blocksize\n",
    "\n",
    "        matrix = red[x:x+blocksize,y:y+blocksize]\n",
    "        red_of_compressed[i*m : (i+1) * m , j*m : (j+1) * m] = enCompress(matrix,m)\n",
    "\n",
    "        matrix = blue[x:x+blocksize,y:y+blocksize]\n",
    "        blue_of_compressed[i*m : (i+1) * m , j*m : (j+1) * m] = enCompress(matrix,m)\n",
    "\n",
    "        matrix = green[x:x+blocksize,y:y+blocksize]\n",
    "        green_of_compressed[i*m : (i+1) * m , j*m : (j+1) * m] = enCompress(matrix,m)\n"
   ]
  },
  {
   "cell_type": "code",
   "execution_count": null,
   "id": "6902eea9",
   "metadata": {},
   "outputs": [],
   "source": [
    "compressed_img = np.dstack([red_of_compressed,blue_of_compressed,green_of_compressed])\n",
    "plt.imshow(compressed_img)"
   ]
  },
  {
   "cell_type": "code",
   "execution_count": null,
   "id": "f1e36b19",
   "metadata": {},
   "outputs": [],
   "source": [
    "red_decompressed = np.zeros((d1,d2))\n",
    "blue_decompressed = np.zeros((d1,d2))\n",
    "green_decompressed = np.zeros((d1,d2))"
   ]
  },
  {
   "cell_type": "code",
   "execution_count": null,
   "id": "4ebb8392",
   "metadata": {},
   "outputs": [],
   "source": [
    "## Decompressing the Image\n",
    "for i in range(0,verticalSize):\n",
    "    for j in range(0,horizontalSize):\n",
    "        matrix = np.zeros((blocksize,blocksize))\n",
    "\n",
    "        x = i * blocksize\n",
    "        y = j * blocksize\n",
    "        matrix[0:m,0:m] = red_of_compressed[i*m : (i+1) * m , j*m : (j+1) * m]\n",
    "        red_decompressed[x:x+blocksize,y:y+blocksize] = deCompress(matrix)\n",
    "\n",
    "        matrix[0:m,0:m] = blue_of_compressed[i*m : (i+1) * m , j*m : (j+1) * m]\n",
    "        blue_decompressed[x:x+blocksize,y:y+blocksize] = deCompress(matrix)\n",
    "\n",
    "        matrix[0:m,0:m] = green_of_compressed[i*m : (i+1) * m , j*m : (j+1) * m]\n",
    "        green_decompressed[x:x+blocksize,y:y+blocksize] = deCompress(matrix)\n"
   ]
  },
  {
   "cell_type": "code",
   "execution_count": null,
   "id": "603f86b0",
   "metadata": {},
   "outputs": [],
   "source": [
    "decompressed_img = image.copy()\n",
    "decompressed_img[:,:,0] = red_decompressed\n",
    "decompressed_img[:,:,1] = blue_decompressed\n",
    "decompressed_img[:,:,2] = green_decompressed\n",
    "plt.imshow(cv2.cvtColor(decompressed_img, cv2.COLOR_BGR2RGB))"
   ]
  },
  {
   "cell_type": "code",
   "execution_count": null,
   "id": "21cac171",
   "metadata": {},
   "outputs": [],
   "source": [
    "plt.imshow(cv2.cvtColor(image, cv2.COLOR_BGR2RGB))"
   ]
  },
  {
   "cell_type": "code",
   "execution_count": null,
   "id": "bc1fd09d",
   "metadata": {},
   "outputs": [],
   "source": []
  }
 ],
 "metadata": {
  "kernelspec": {
   "display_name": "venv",
   "language": "python",
   "name": "python3"
  },
  "language_info": {
   "codemirror_mode": {
    "name": "ipython",
    "version": 3
   },
   "file_extension": ".py",
   "mimetype": "text/x-python",
   "name": "python",
   "nbconvert_exporter": "python",
   "pygments_lexer": "ipython3",
   "version": "3.11.4"
  },
  "polyglot_notebook": {
   "kernelInfo": {
    "defaultKernelName": "csharp",
    "items": [
     {
      "aliases": [],
      "name": "csharp"
     }
    ]
   }
  }
 },
 "nbformat": 4,
 "nbformat_minor": 5
}
